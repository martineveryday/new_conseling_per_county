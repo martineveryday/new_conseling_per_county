{
 "cells": [
  {
   "cell_type": "code",
   "execution_count": 1,
   "id": "8a235cce-1026-4f6b-b1f4-c507ad333961",
   "metadata": {},
   "outputs": [],
   "source": [
    "import pandas as pd\n",
    "\n",
    "# List of file paths\n",
    "csv_files = [r'client.csv', r'eCenter.csv']\n",
    "\n",
    "# Column used for merging\n",
    "merge_column = r'Client'\n",
    "\n",
    "# Function to read CSV files into a dictionary of DataFrames\n",
    "def read_csv_files(file_paths: list):\n",
    "    return {file: pd.read_csv(file) for file in file_paths}\n",
    "\n",
    "# Function to merge two DataFrames on a specific column\n",
    "def merge_dataframes(df1, df2, merge_column):\n",
    "    return pd.merge(df1, df2, how='inner', on=merge_column)\n",
    "  \n",
    "# Read the CSV files into DataFrames\n",
    "dataframes = read_csv_files(csv_files)\n",
    "\n",
    "# Separate DataFrames for 'client.csv' and 'eCenter.csv'\n",
    "client_df = dataframes['client.csv']\n",
    "eCenter_df = dataframes['eCenter.csv']\n",
    "\n",
    "# Merge the DataFrames on the 'Client' column\n",
    "merged_df = merge_dataframes(client_df, eCenter_df, merge_column)\n",
    "\n",
    "# Remove duplicates based on the 'Client' column\n",
    "cleaned_df = merged_df.drop_duplicates(subset=['Client'])\n",
    "\n",
    "# Filter for columns and sort by 'Physical Address County'\n",
    "sorted_clients = cleaned_df[['Client', 'Physical Address County', 'Primary NAICS', 'Center']].sort_values('Physical Address County')\n",
    "\n",
    "# Count the number of clients without a listed county\n",
    "missing_county_clients = sorted_clients['Physical Address County'].isna().sum()\n",
    "\n",
    "# Display value counts for all rows\n",
    "client_value_counts = sorted_clients.value_counts()\n"
   ]
  },
  {
   "cell_type": "code",
   "execution_count": null,
   "id": "fa6ceaec-be1c-40d4-b05d-5e9b4a7f4f7b",
   "metadata": {},
   "outputs": [],
   "source": []
  }
 ],
 "metadata": {
  "kernelspec": {
   "display_name": "Python 3 (ipykernel)",
   "language": "python",
   "name": "python3"
  },
  "language_info": {
   "codemirror_mode": {
    "name": "ipython",
    "version": 3
   },
   "file_extension": ".py",
   "mimetype": "text/x-python",
   "name": "python",
   "nbconvert_exporter": "python",
   "pygments_lexer": "ipython3",
   "version": "3.12.7"
  }
 },
 "nbformat": 4,
 "nbformat_minor": 5
}
